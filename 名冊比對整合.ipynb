{
 "cells": [
  {
   "cell_type": "code",
   "execution_count": null,
   "id": "e0a0bf6d",
   "metadata": {},
   "outputs": [],
   "source": [
    "from datetime import datetime\n",
    "from datetime import date, timedelta\n",
    "import pandas as pd\n",
    "import numpy as np"
   ]
  },
  {
   "cell_type": "code",
   "execution_count": null,
   "id": "3ca49921",
   "metadata": {},
   "outputs": [],
   "source": [
    "date = datetime.today().strftime('%Y%m%d')\n",
    "date"
   ]
  },
  {
   "cell_type": "code",
   "execution_count": null,
   "id": "d5106aa4",
   "metadata": {},
   "outputs": [],
   "source": [
    "sheet = (datetime.today() - timedelta(days = 2)).strftime('%m%d')\n",
    "#sheet = datetime.today().strftime('%m%d')\n",
    "sheet"
   ]
  },
  {
   "cell_type": "code",
   "execution_count": null,
   "id": "6c05c00e",
   "metadata": {},
   "outputs": [],
   "source": [
    "# read excel\n",
    "df1 = pd.read_excel(\"COVID-19確診名冊.xlsx\", sheet_name=sheet, converters = {u'Unnamed: 0':str, u'通報日期':str, u'通報單號':str, u'證號':str, u'姓名':str, u'接觸者人數':str, u'處理人員':str, u'處理日期':str, u'派案':str})\n",
    "df2 = pd.read_excel(\"Reports_\"+date+\".xlsx\", sheet_name=\"通報單列表\", converters = {u'Unnamed: 0':str, u'通報單號':str, u'證號':str, u'姓名':str})\n",
    "# convert to string \n",
    "df1 = df1.astype(str)\n",
    "df2 = df2.astype(str)\n",
    "# fill NaN value\n",
    "df1.fillna('', inplace=True)\n",
    "df2.fillna('', inplace=True)"
   ]
  },
  {
   "cell_type": "code",
   "execution_count": null,
   "id": "97f2f16f",
   "metadata": {},
   "outputs": [],
   "source": [
    "# drop not use column\n",
    "df1.drop('Unnamed: 0', inplace=True, axis=1)\n",
    "# rename column\n",
    "df1 = df1.rename(columns={'Unnamed: 0': ''})\n",
    "df2 = df2.rename(columns={'Unnamed: 0': ''})"
   ]
  },
  {
   "cell_type": "code",
   "execution_count": null,
   "id": "e2ade0c1",
   "metadata": {},
   "outputs": [],
   "source": [
    "try:\n",
    "    df1 = df1.rename(columns={'Unnamed: 9': ''})\n",
    "except:\n",
    "    pass"
   ]
  },
  {
   "cell_type": "code",
   "execution_count": null,
   "id": "265f8980",
   "metadata": {},
   "outputs": [],
   "source": [
    "df1"
   ]
  },
  {
   "cell_type": "code",
   "execution_count": null,
   "id": "6cf8976f",
   "metadata": {},
   "outputs": [],
   "source": [
    "df2[\"通報日期\"] = sheet"
   ]
  },
  {
   "cell_type": "code",
   "execution_count": null,
   "id": "92457ffc",
   "metadata": {},
   "outputs": [],
   "source": [
    "df2"
   ]
  },
  {
   "cell_type": "code",
   "execution_count": null,
   "id": "defba928",
   "metadata": {},
   "outputs": [],
   "source": [
    "# concat two dataframe\n",
    "frames = [df1, df2]\n",
    "\n",
    "df = pd.concat(frames)"
   ]
  },
  {
   "cell_type": "code",
   "execution_count": null,
   "id": "04507762",
   "metadata": {},
   "outputs": [],
   "source": [
    "# drop duplicate rows base on rows['通報日期', '通報單號', '證號', '姓名']\n",
    "df_final = df.drop_duplicates(subset=['通報日期', '通報單號', '證號', '姓名'], keep = 'first')"
   ]
  },
  {
   "cell_type": "code",
   "execution_count": null,
   "id": "80df6411",
   "metadata": {},
   "outputs": [],
   "source": [
    "# df_final = df_final[df_final['通報日期'] == sheet]"
   ]
  },
  {
   "cell_type": "code",
   "execution_count": null,
   "id": "cef50f05",
   "metadata": {},
   "outputs": [],
   "source": [
    "# change index start form 1\n",
    "df_final.index = np.arange(1, len(df_final)+1)"
   ]
  },
  {
   "cell_type": "code",
   "execution_count": null,
   "id": "6cd836fb",
   "metadata": {},
   "outputs": [],
   "source": [
    "df_final"
   ]
  },
  {
   "cell_type": "code",
   "execution_count": null,
   "id": "f1ed88c5",
   "metadata": {},
   "outputs": [],
   "source": [
    "# fill NaN and nan value\n",
    "df_final.fillna('', inplace=True)\n",
    "df_final['接觸者人數'] = df_final['接觸者人數'].replace({'nan':''})\n",
    "df_final['處理人員'] = df_final['處理人員'].replace({'nan':''})\n",
    "df_final['處理日期'] = df_final['處理日期'].replace({'nan':''})\n",
    "df_final['派案'] = df_final['派案'].replace({'nan':''})\n",
    "try:\n",
    "    df_final[''] = df_final[''].replace({'nan':''})\n",
    "except:\n",
    "    pass"
   ]
  },
  {
   "cell_type": "code",
   "execution_count": null,
   "id": "19b446a9",
   "metadata": {},
   "outputs": [],
   "source": [
    "# add sheet to exist excel file\n",
    "FilePath = \"COVID-19確診名冊.xlsx\""
   ]
  },
  {
   "cell_type": "code",
   "execution_count": null,
   "id": "7a25f68d",
   "metadata": {},
   "outputs": [],
   "source": [
    "writer = pd.ExcelWriter(FilePath, mode='a', engine = 'openpyxl', if_sheet_exists = 'replace')"
   ]
  },
  {
   "cell_type": "code",
   "execution_count": null,
   "id": "621111bc",
   "metadata": {},
   "outputs": [],
   "source": [
    "df_final.to_excel(writer, sheet_name = sheet, index=True)\n",
    "# writer.save()\n",
    "writer.close()"
   ]
  },
  {
   "cell_type": "code",
   "execution_count": null,
   "id": "06066bfe",
   "metadata": {},
   "outputs": [],
   "source": []
  }
 ],
 "metadata": {
  "kernelspec": {
   "display_name": "Python 3",
   "language": "python",
   "name": "python3"
  },
  "language_info": {
   "codemirror_mode": {
    "name": "ipython",
    "version": 3
   },
   "file_extension": ".py",
   "mimetype": "text/x-python",
   "name": "python",
   "nbconvert_exporter": "python",
   "pygments_lexer": "ipython3",
   "version": "3.7.9"
  }
 },
 "nbformat": 4,
 "nbformat_minor": 5
}
